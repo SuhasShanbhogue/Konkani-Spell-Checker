{
 "cells": [
  {
   "cell_type": "code",
   "execution_count": 1,
   "metadata": {},
   "outputs": [],
   "source": [
    "import csv\n",
    "import pandas\n",
    "from collections import Counter\n",
    "import re\n",
    "import nltk \n",
    "import numpy as np\n",
    "from pyxdameraulevenshtein import damerau_levenshtein_distance"
   ]
  },
  {
   "cell_type": "code",
   "execution_count": 2,
   "metadata": {},
   "outputs": [],
   "source": [
    "\n",
    "with open('training_POSdata.csv', 'r') as f:\n",
    "    reader = csv.reader(f)\n",
    "    your_list = list(reader)\n",
    "\n"
   ]
  },
  {
   "cell_type": "code",
   "execution_count": 3,
   "metadata": {},
   "outputs": [
    {
     "name": "stdout",
     "output_type": "stream",
     "text": [
      "['ताजो\\\\JJ', 'स्वास\\\\N_NN', 'आनी\\\\CC_CCD', 'चकचकीत\\\\JJ', 'दांत\\\\N_NN', 'तुमचें\\\\PR_PRP', 'व्यक्तीमत्व\\\\N_NN', 'परजळायतात\\\\V_VM_VF']\n"
     ]
    }
   ],
   "source": [
    "print(your_list[0][1:])"
   ]
  },
  {
   "cell_type": "code",
   "execution_count": 4,
   "metadata": {},
   "outputs": [],
   "source": [
    "length = len(your_list)\n",
    "my_list = []\n",
    "\n",
    "for i in range(length):\n",
    "    my_list.append(your_list[i][1:])"
   ]
  },
  {
   "cell_type": "code",
   "execution_count": 5,
   "metadata": {},
   "outputs": [
    {
     "name": "stdout",
     "output_type": "stream",
     "text": [
      "['ताजो\\\\JJ', 'स्वास\\\\N_NN', 'आनी\\\\CC_CCD', 'चकचकीत\\\\JJ', 'दांत\\\\N_NN', 'तुमचें\\\\PR_PRP', 'व्यक्तीमत्व\\\\N_NN', 'परजळायतात\\\\V_VM_VF']\n"
     ]
    }
   ],
   "source": [
    "print(my_list[0][0:])"
   ]
  },
  {
   "cell_type": "code",
   "execution_count": 6,
   "metadata": {},
   "outputs": [],
   "source": [
    "s = my_list[0]"
   ]
  },
  {
   "cell_type": "code",
   "execution_count": 7,
   "metadata": {},
   "outputs": [],
   "source": [
    "text, strings = [], ['ताजो\\\\JJ', 'स्वास\\\\N_NN', 'आनी\\\\CC_CCD', 'चकचकीत\\\\JJ', 'दांत\\\\N_NN', 'तुमचें\\\\PR_PRP', 'व्यक्तीमत्व\\\\N_NN', 'परजळायतात\\\\V_VM_VF']\n",
    "for j in my_list:\n",
    "    for i in j:\n",
    "        split = i.split('\\\\')\n",
    "        #print(split)\n",
    "        text.append(split[0])\n",
    "                    \n",
    "#re.sub(r'\\\\[s]+','',)\n",
    "\n"
   ]
  },
  {
   "cell_type": "code",
   "execution_count": 8,
   "metadata": {},
   "outputs": [],
   "source": [
    "corpus = text"
   ]
  },
  {
   "cell_type": "code",
   "execution_count": 9,
   "metadata": {},
   "outputs": [],
   "source": [
    "for i in range(len(corpus )):\n",
    "    \n",
    "    #corpus [i] = re.sub(r'\\W',' ',corpus [i])\n",
    "    corpus [i] = re.sub(r'\\s+',' ',corpus [i])"
   ]
  },
  {
   "cell_type": "code",
   "execution_count": 10,
   "metadata": {},
   "outputs": [],
   "source": [
    "s = {corpus[0]}\n",
    "for i in corpus:\n",
    "    s.add(i)"
   ]
  },
  {
   "cell_type": "code",
   "execution_count": 11,
   "metadata": {},
   "outputs": [],
   "source": [
    "for i in range(len(corpus)):\n",
    "    if(not corpus[i] in s):\n",
    "        print(i)"
   ]
  },
  {
   "cell_type": "code",
   "execution_count": 12,
   "metadata": {},
   "outputs": [],
   "source": [
    "corpus2 = list(s)\n"
   ]
  },
  {
   "cell_type": "code",
   "execution_count": 14,
   "metadata": {},
   "outputs": [
    {
     "ename": "TypeError",
     "evalue": "string [['', 'खोशयेन', 'नासीय', 'पिस्तोलान', 'इन्किझासावांचो', 'भक्तीच्या', 'जेनेलिया', 'उत्पादनांच्या', 'विबोध', 'नटराजन', 'बिहाराचेंय', 'जॅकब', 'कपट', 'आठांचो', 'मॅथ्स', 'फवारा', 'पवनार', 'मुर्तिकारांची', 'नेत्रावरणा', 'रोंप्यांचेर', 'घुंवात', 'मनस्पुर्वेक', 'कोचीन', 'चीरहरण', 'युरेटरस', 'म्हत्वपूर्ण', 'लाबांक', '०५', 'सुकप', 'लियोंग', 'बारावो', 'हिन्द', 'रोटावायरस', 'सिनेटरी', 'जाणिवो', 'जांच्यांनी', 'किरणांतले', 'वसलें', 'ओवेल', 'सोबित', 'भुलोवप्या', 'वापरलो', 'आगाऊपणा', 'मशिदीची', 'जतगो', 'जाग्याचो', 'उजाड', 'घालताली', 'न्युझिलँडाचो', 'खेद']] has an unrecognized type of [<class 'list'>]",
     "output_type": "error",
     "traceback": [
      "\u001b[0;31m---------------------------------------------------------------------------\u001b[0m",
      "\u001b[0;31mTypeError\u001b[0m                                 Traceback (most recent call last)",
      "\u001b[0;32mpyxdameraulevenshtein.pyx\u001b[0m in \u001b[0;36mpyxdameraulevenshtein._to_unicode\u001b[0;34m()\u001b[0m\n",
      "\u001b[0;31mTypeError\u001b[0m: string [['', 'खोशयेन', 'नासीय', 'पिस्तोलान', 'इन्किझासावांचो', 'भक्तीच्या', 'जेनेलिया', 'उत्पादनांच्या', 'विबोध', 'नटराजन', 'बिहाराचेंय', 'जॅकब', 'कपट', 'आठांचो', 'मॅथ्स', 'फवारा', 'पवनार', 'मुर्तिकारांची', 'नेत्रावरणा', 'रोंप्यांचेर', 'घुंवात', 'मनस्पुर्वेक', 'कोचीन', 'चीरहरण', 'युरेटरस', 'म्हत्वपूर्ण', 'लाबांक', '०५', 'सुकप', 'लियोंग', 'बारावो', 'हिन्द', 'रोटावायरस', 'सिनेटरी', 'जाणिवो', 'जांच्यांनी', 'किरणांतले', 'वसलें', 'ओवेल', 'सोबित', 'भुलोवप्या', 'वापरलो', 'आगाऊपणा', 'मशिदीची', 'जतगो', 'जाग्याचो', 'उजाड', 'घालताली', 'न्युझिलँडाचो', 'खेद']] has an unrecognized type of [<class 'list'>]"
     ]
    },
    {
     "name": "stderr",
     "output_type": "stream",
     "text": [
      "Exception ignored in: 'pyxdameraulevenshtein.damerau_levenshtein_distance'\n",
      "Traceback (most recent call last):\n",
      "  File \"pyxdameraulevenshtein.pyx\", line 50, in pyxdameraulevenshtein._to_unicode\n",
      "TypeError: string [['', 'खोशयेन', 'नासीय', 'पिस्तोलान', 'इन्किझासावांचो', 'भक्तीच्या', 'जेनेलिया', 'उत्पादनांच्या', 'विबोध', 'नटराजन', 'बिहाराचेंय', 'जॅकब', 'कपट', 'आठांचो', 'मॅथ्स', 'फवारा', 'पवनार', 'मुर्तिकारांची', 'नेत्रावरणा', 'रोंप्यांचेर', 'घुंवात', 'मनस्पुर्वेक', 'कोचीन', 'चीरहरण', 'युरेटरस', 'म्हत्वपूर्ण', 'लाबांक', '०५', 'सुकप', 'लियोंग', 'बारावो', 'हिन्द', 'रोटावायरस', 'सिनेटरी', 'जाणिवो', 'जांच्यांनी', 'किरणांतले', 'वसलें', 'ओवेल', 'सोबित', 'भुलोवप्या', 'वापरलो', 'आगाऊपणा', 'मशिदीची', 'जतगो', 'जाग्याचो', 'उजाड', 'घालताली', 'न्युझिलँडाचो', 'खेद']] has an unrecognized type of [<class 'list'>]\n"
     ]
    },
    {
     "data": {
      "text/plain": [
       "0"
      ]
     },
     "execution_count": 14,
     "metadata": {},
     "output_type": "execute_result"
    }
   ],
   "source": [
    "damerau_levenshtein_distance(corpus2[25],corpus2[0:50])  # expected result: 7\n"
   ]
  },
  {
   "cell_type": "code",
   "execution_count": 30,
   "metadata": {},
   "outputs": [
    {
     "data": {
      "text/plain": [
       "'लाबांक'"
      ]
     },
     "execution_count": 30,
     "metadata": {},
     "output_type": "execute_result"
    }
   ],
   "source": [
    "corpus2[26]"
   ]
  },
  {
   "cell_type": "code",
   "execution_count": 23,
   "metadata": {},
   "outputs": [
    {
     "ename": "TypeError",
     "evalue": "string [['', 'खोशयेन', 'नासीय', 'पिस्तोलान', 'इन्किझासावांचो', 'भक्तीच्या', 'जेनेलिया', 'उत्पादनांच्या', 'विबोध', 'नटराजन', 'बिहाराचेंय', 'जॅकब', 'कपट', 'आठांचो', 'मॅथ्स', 'फवारा', 'पवनार', 'मुर्तिकारांची', 'नेत्रावरणा', 'रोंप्यांचेर', 'घुंवात', 'मनस्पुर्वेक', 'कोचीन', 'चीरहरण', 'युरेटरस', 'म्हत्वपूर्ण', 'लाबांक', '०५', 'सुकप', 'लियोंग', 'बारावो', 'हिन्द', 'रोटावायरस', 'सिनेटरी', 'जाणिवो', 'जांच्यांनी', 'किरणांतले', 'वसलें', 'ओवेल', 'सोबित', 'भुलोवप्या', 'वापरलो', 'आगाऊपणा', 'मशिदीची', 'जतगो', 'जाग्याचो', 'उजाड', 'घालताली', 'न्युझिलँडाचो', 'खेद']] has an unrecognized type of [<class 'list'>]",
     "output_type": "error",
     "traceback": [
      "\u001b[0;31m---------------------------------------------------------------------------\u001b[0m",
      "\u001b[0;31mTypeError\u001b[0m                                 Traceback (most recent call last)",
      "\u001b[0;32mpyxdameraulevenshtein.pyx\u001b[0m in \u001b[0;36mpyxdameraulevenshtein._to_unicode\u001b[0;34m()\u001b[0m\n",
      "\u001b[0;31mTypeError\u001b[0m: string [['', 'खोशयेन', 'नासीय', 'पिस्तोलान', 'इन्किझासावांचो', 'भक्तीच्या', 'जेनेलिया', 'उत्पादनांच्या', 'विबोध', 'नटराजन', 'बिहाराचेंय', 'जॅकब', 'कपट', 'आठांचो', 'मॅथ्स', 'फवारा', 'पवनार', 'मुर्तिकारांची', 'नेत्रावरणा', 'रोंप्यांचेर', 'घुंवात', 'मनस्पुर्वेक', 'कोचीन', 'चीरहरण', 'युरेटरस', 'म्हत्वपूर्ण', 'लाबांक', '०५', 'सुकप', 'लियोंग', 'बारावो', 'हिन्द', 'रोटावायरस', 'सिनेटरी', 'जाणिवो', 'जांच्यांनी', 'किरणांतले', 'वसलें', 'ओवेल', 'सोबित', 'भुलोवप्या', 'वापरलो', 'आगाऊपणा', 'मशिदीची', 'जतगो', 'जाग्याचो', 'उजाड', 'घालताली', 'न्युझिलँडाचो', 'खेद']] has an unrecognized type of [<class 'list'>]"
     ]
    },
    {
     "name": "stderr",
     "output_type": "stream",
     "text": [
      "Exception ignored in: 'pyxdameraulevenshtein.damerau_levenshtein_distance'\n",
      "Traceback (most recent call last):\n",
      "  File \"pyxdameraulevenshtein.pyx\", line 50, in pyxdameraulevenshtein._to_unicode\n",
      "TypeError: string [['', 'खोशयेन', 'नासीय', 'पिस्तोलान', 'इन्किझासावांचो', 'भक्तीच्या', 'जेनेलिया', 'उत्पादनांच्या', 'विबोध', 'नटराजन', 'बिहाराचेंय', 'जॅकब', 'कपट', 'आठांचो', 'मॅथ्स', 'फवारा', 'पवनार', 'मुर्तिकारांची', 'नेत्रावरणा', 'रोंप्यांचेर', 'घुंवात', 'मनस्पुर्वेक', 'कोचीन', 'चीरहरण', 'युरेटरस', 'म्हत्वपूर्ण', 'लाबांक', '०५', 'सुकप', 'लियोंग', 'बारावो', 'हिन्द', 'रोटावायरस', 'सिनेटरी', 'जाणिवो', 'जांच्यांनी', 'किरणांतले', 'वसलें', 'ओवेल', 'सोबित', 'भुलोवप्या', 'वापरलो', 'आगाऊपणा', 'मशिदीची', 'जतगो', 'जाग्याचो', 'उजाड', 'घालताली', 'न्युझिलँडाचो', 'खेद']] has an unrecognized type of [<class 'list'>]\n"
     ]
    },
    {
     "data": {
      "text/plain": [
       "0"
      ]
     },
     "execution_count": 23,
     "metadata": {},
     "output_type": "execute_result"
    }
   ],
   "source": [
    "damerau_levenshtein_distance(corpus2[26],corpus2[0:50])  # expected result: 7\n"
   ]
  },
  {
   "cell_type": "code",
   "execution_count": 40,
   "metadata": {},
   "outputs": [],
   "source": [
    "ind = []\n",
    "for i in range(50):\n",
    "    ind.append(damerau_levenshtein_distance('सिमेटरी',corpus2[i])) "
   ]
  },
  {
   "cell_type": "code",
   "execution_count": 41,
   "metadata": {},
   "outputs": [],
   "source": [
    "ind = np.array(ind)"
   ]
  },
  {
   "cell_type": "code",
   "execution_count": 42,
   "metadata": {},
   "outputs": [
    {
     "data": {
      "text/plain": [
       "33"
      ]
     },
     "execution_count": 42,
     "metadata": {},
     "output_type": "execute_result"
    }
   ],
   "source": [
    "ind.argmin()"
   ]
  },
  {
   "cell_type": "code",
   "execution_count": 43,
   "metadata": {},
   "outputs": [
    {
     "data": {
      "text/plain": [
       "'सिनेटरी'"
      ]
     },
     "execution_count": 43,
     "metadata": {},
     "output_type": "execute_result"
    }
   ],
   "source": [
    "corpus2[ind.argmin()]"
   ]
  },
  {
   "cell_type": "code",
   "execution_count": 44,
   "metadata": {},
   "outputs": [
    {
     "data": {
      "text/plain": [
       "array([ 7,  7,  7,  8, 13,  9,  7, 13,  6,  7,  9,  7,  6,  7,  6,  6,  6,\n",
       "       11,  9, 11,  7, 10,  7,  6,  4, 10,  7,  7,  6,  6,  7,  6,  8,  1,\n",
       "        7,  9,  8,  6,  6,  6,  9,  7,  7,  6,  7,  8,  7,  6, 11,  6])"
      ]
     },
     "execution_count": 44,
     "metadata": {},
     "output_type": "execute_result"
    }
   ],
   "source": [
    "ind"
   ]
  },
  {
   "cell_type": "code",
   "execution_count": 45,
   "metadata": {},
   "outputs": [
    {
     "data": {
      "text/plain": [
       "1"
      ]
     },
     "execution_count": 45,
     "metadata": {},
     "output_type": "execute_result"
    }
   ],
   "source": [
    "ind[33]"
   ]
  },
  {
   "cell_type": "code",
   "execution_count": null,
   "metadata": {},
   "outputs": [],
   "source": []
  }
 ],
 "metadata": {
  "kernelspec": {
   "display_name": "Python 3",
   "language": "python",
   "name": "python3"
  },
  "language_info": {
   "codemirror_mode": {
    "name": "ipython",
    "version": 3
   },
   "file_extension": ".py",
   "mimetype": "text/x-python",
   "name": "python",
   "nbconvert_exporter": "python",
   "pygments_lexer": "ipython3",
   "version": "3.7.3"
  }
 },
 "nbformat": 4,
 "nbformat_minor": 2
}
